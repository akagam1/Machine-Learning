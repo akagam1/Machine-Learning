{
 "cells": [
  {
   "cell_type": "markdown",
   "id": "af356336",
   "metadata": {},
   "source": [
    "# Handwritten digit recognition: One vs All approach\n",
    "\n",
    "This notebook containes a cleaned up version of the multi-class learning  notebook for the same application. A clearer implementation of one vs all is present here. The approach will be as follows:\n",
    "\n",
    "1. import the dataset and declare the matrix X which will contain the pixel data\n",
    "2. loop through the number of labels for the specific application (10 in this case)\n",
    "3. for each loop declare a matrix Y<sub>i</sub> that will contain 1s and 0s. A 1 represents that the corresponding image in the X matrix represents the i<sup>th</sup> label while a 0 represents that it doesn't\n",
    "4. call oneVall function and gradient descent \n",
    "5. update the matrix all_theta by adding a new row which will be the final values of theta after gradient descent\n",
    "6. use predict function to test"
   ]
  },
  {
   "cell_type": "code",
   "execution_count": 1,
   "id": "2e24c4a3",
   "metadata": {},
   "outputs": [],
   "source": [
    "import numpy as np\n",
    "import matplotlib.pyplot as plt\n",
    "import pandas as pd\n",
    "import os as os\n",
    "from scipy import optimize\n",
    "from scipy.special import expit"
   ]
  },
  {
   "cell_type": "code",
   "execution_count": 153,
   "id": "aeaa3bba",
   "metadata": {},
   "outputs": [
    {
     "name": "stdout",
     "output_type": "stream",
     "text": [
      "(42000, 785)\n"
     ]
    },
    {
     "data": {
      "text/html": [
       "<div>\n",
       "<style scoped>\n",
       "    .dataframe tbody tr th:only-of-type {\n",
       "        vertical-align: middle;\n",
       "    }\n",
       "\n",
       "    .dataframe tbody tr th {\n",
       "        vertical-align: top;\n",
       "    }\n",
       "\n",
       "    .dataframe thead th {\n",
       "        text-align: right;\n",
       "    }\n",
       "</style>\n",
       "<table border=\"1\" class=\"dataframe\">\n",
       "  <thead>\n",
       "    <tr style=\"text-align: right;\">\n",
       "      <th></th>\n",
       "      <th>label</th>\n",
       "      <th>pixel0</th>\n",
       "      <th>pixel1</th>\n",
       "      <th>pixel2</th>\n",
       "      <th>pixel3</th>\n",
       "      <th>pixel4</th>\n",
       "      <th>pixel5</th>\n",
       "      <th>pixel6</th>\n",
       "      <th>pixel7</th>\n",
       "      <th>pixel8</th>\n",
       "      <th>...</th>\n",
       "      <th>pixel774</th>\n",
       "      <th>pixel775</th>\n",
       "      <th>pixel776</th>\n",
       "      <th>pixel777</th>\n",
       "      <th>pixel778</th>\n",
       "      <th>pixel779</th>\n",
       "      <th>pixel780</th>\n",
       "      <th>pixel781</th>\n",
       "      <th>pixel782</th>\n",
       "      <th>pixel783</th>\n",
       "    </tr>\n",
       "  </thead>\n",
       "  <tbody>\n",
       "    <tr>\n",
       "      <th>41995</th>\n",
       "      <td>0</td>\n",
       "      <td>0</td>\n",
       "      <td>0</td>\n",
       "      <td>0</td>\n",
       "      <td>0</td>\n",
       "      <td>0</td>\n",
       "      <td>0</td>\n",
       "      <td>0</td>\n",
       "      <td>0</td>\n",
       "      <td>0</td>\n",
       "      <td>...</td>\n",
       "      <td>0</td>\n",
       "      <td>0</td>\n",
       "      <td>0</td>\n",
       "      <td>0</td>\n",
       "      <td>0</td>\n",
       "      <td>0</td>\n",
       "      <td>0</td>\n",
       "      <td>0</td>\n",
       "      <td>0</td>\n",
       "      <td>0</td>\n",
       "    </tr>\n",
       "    <tr>\n",
       "      <th>41996</th>\n",
       "      <td>1</td>\n",
       "      <td>0</td>\n",
       "      <td>0</td>\n",
       "      <td>0</td>\n",
       "      <td>0</td>\n",
       "      <td>0</td>\n",
       "      <td>0</td>\n",
       "      <td>0</td>\n",
       "      <td>0</td>\n",
       "      <td>0</td>\n",
       "      <td>...</td>\n",
       "      <td>0</td>\n",
       "      <td>0</td>\n",
       "      <td>0</td>\n",
       "      <td>0</td>\n",
       "      <td>0</td>\n",
       "      <td>0</td>\n",
       "      <td>0</td>\n",
       "      <td>0</td>\n",
       "      <td>0</td>\n",
       "      <td>0</td>\n",
       "    </tr>\n",
       "    <tr>\n",
       "      <th>41997</th>\n",
       "      <td>7</td>\n",
       "      <td>0</td>\n",
       "      <td>0</td>\n",
       "      <td>0</td>\n",
       "      <td>0</td>\n",
       "      <td>0</td>\n",
       "      <td>0</td>\n",
       "      <td>0</td>\n",
       "      <td>0</td>\n",
       "      <td>0</td>\n",
       "      <td>...</td>\n",
       "      <td>0</td>\n",
       "      <td>0</td>\n",
       "      <td>0</td>\n",
       "      <td>0</td>\n",
       "      <td>0</td>\n",
       "      <td>0</td>\n",
       "      <td>0</td>\n",
       "      <td>0</td>\n",
       "      <td>0</td>\n",
       "      <td>0</td>\n",
       "    </tr>\n",
       "    <tr>\n",
       "      <th>41998</th>\n",
       "      <td>6</td>\n",
       "      <td>0</td>\n",
       "      <td>0</td>\n",
       "      <td>0</td>\n",
       "      <td>0</td>\n",
       "      <td>0</td>\n",
       "      <td>0</td>\n",
       "      <td>0</td>\n",
       "      <td>0</td>\n",
       "      <td>0</td>\n",
       "      <td>...</td>\n",
       "      <td>0</td>\n",
       "      <td>0</td>\n",
       "      <td>0</td>\n",
       "      <td>0</td>\n",
       "      <td>0</td>\n",
       "      <td>0</td>\n",
       "      <td>0</td>\n",
       "      <td>0</td>\n",
       "      <td>0</td>\n",
       "      <td>0</td>\n",
       "    </tr>\n",
       "    <tr>\n",
       "      <th>41999</th>\n",
       "      <td>9</td>\n",
       "      <td>0</td>\n",
       "      <td>0</td>\n",
       "      <td>0</td>\n",
       "      <td>0</td>\n",
       "      <td>0</td>\n",
       "      <td>0</td>\n",
       "      <td>0</td>\n",
       "      <td>0</td>\n",
       "      <td>0</td>\n",
       "      <td>...</td>\n",
       "      <td>0</td>\n",
       "      <td>0</td>\n",
       "      <td>0</td>\n",
       "      <td>0</td>\n",
       "      <td>0</td>\n",
       "      <td>0</td>\n",
       "      <td>0</td>\n",
       "      <td>0</td>\n",
       "      <td>0</td>\n",
       "      <td>0</td>\n",
       "    </tr>\n",
       "  </tbody>\n",
       "</table>\n",
       "<p>5 rows × 785 columns</p>\n",
       "</div>"
      ],
      "text/plain": [
       "       label  pixel0  pixel1  pixel2  pixel3  pixel4  pixel5  pixel6  pixel7  \\\n",
       "41995      0       0       0       0       0       0       0       0       0   \n",
       "41996      1       0       0       0       0       0       0       0       0   \n",
       "41997      7       0       0       0       0       0       0       0       0   \n",
       "41998      6       0       0       0       0       0       0       0       0   \n",
       "41999      9       0       0       0       0       0       0       0       0   \n",
       "\n",
       "       pixel8  ...  pixel774  pixel775  pixel776  pixel777  pixel778  \\\n",
       "41995       0  ...         0         0         0         0         0   \n",
       "41996       0  ...         0         0         0         0         0   \n",
       "41997       0  ...         0         0         0         0         0   \n",
       "41998       0  ...         0         0         0         0         0   \n",
       "41999       0  ...         0         0         0         0         0   \n",
       "\n",
       "       pixel779  pixel780  pixel781  pixel782  pixel783  \n",
       "41995         0         0         0         0         0  \n",
       "41996         0         0         0         0         0  \n",
       "41997         0         0         0         0         0  \n",
       "41998         0         0         0         0         0  \n",
       "41999         0         0         0         0         0  \n",
       "\n",
       "[5 rows x 785 columns]"
      ]
     },
     "execution_count": 153,
     "metadata": {},
     "output_type": "execute_result"
    }
   ],
   "source": [
    "input_layer_size = 784\n",
    "num_labels = 10\n",
    "data = pd.read_csv('dataset2/train.csv')\n",
    "print(data.shape)\n",
    "data_temp = data.head(5000)\n",
    "data.head()\n",
    "data.tail()"
   ]
  },
  {
   "cell_type": "code",
   "execution_count": 5,
   "id": "6c91a3f5",
   "metadata": {},
   "outputs": [
    {
     "data": {
      "image/png": "[encoded data removed]",
      "text/plain": [
       "<Figure size 720x720 with 25 Axes>"
      ]
     },
     "metadata": {
      "needs_background": "light"
     },
     "output_type": "display_data"
    }
   ],
   "source": [
    "img1 = data.iloc[:25,1:].values\n",
    "fig, ax = plt.subplots(nrows=5,ncols=5,sharey = True, sharex = True)\n",
    "fig.set_figwidth(10)\n",
    "fig.set_figheight(10)\n",
    "for i in range(5):\n",
    "  for j in range(5):\n",
    "    img = img1[i+j].reshape(28,28)\n",
    "    ax[i,j].imshow(img, cmap='gray')"
   ]
  },
  {
   "cell_type": "code",
   "execution_count": 112,
   "id": "26597be5",
   "metadata": {},
   "outputs": [],
   "source": [
    "def sigmoid(z):\n",
    "    g = 1/(1+np.exp(-z))\n",
    "    return g"
   ]
  },
  {
   "cell_type": "code",
   "execution_count": 141,
   "id": "a1f43228",
   "metadata": {},
   "outputs": [
    {
     "data": {
      "text/plain": [
       "(5000, 785)"
      ]
     },
     "execution_count": 141,
     "metadata": {},
     "output_type": "execute_result"
    }
   ],
   "source": [
    "x = data_temp.iloc[:,1:].values\n",
    "ones = np.array([1 for i in range(len(x))])\n",
    "x = np.column_stack((ones,x))\n",
    "y = data_temp.iloc[:,0].values\n",
    "x.shape"
   ]
  },
  {
   "cell_type": "code",
   "execution_count": 142,
   "id": "fa042365",
   "metadata": {},
   "outputs": [],
   "source": [
    "def gradDesc(theta,x,y,m):\n",
    "    h = sigmoid(x*theta)\n",
    "    grad = np.transpose(x)*(h-np.transpose(y))\n",
    "    return grad/m\n",
    "\n",
    "def oneVall(x,y,alpha,itr):\n",
    "    m,n = x.shape\n",
    "    theta = np.transpose(np.matrix(np.zeros(n)))\n",
    "    x = np.matrix(x)\n",
    "    y = np.matrix(y)\n",
    "    for i in range(itr):\n",
    "        theta = theta - alpha*gradDesc(theta,x,y,m)\n",
    "    return np.array(np.transpose(theta))"
   ]
  },
  {
   "cell_type": "code",
   "execution_count": 147,
   "id": "d31d0b48",
   "metadata": {},
   "outputs": [],
   "source": [
    "all_theta = np.array([np.zeros(785)])\n",
    "for j in range(num_labels):\n",
    "    yIn = (y == j).astype(int)\n",
    "    temp = oneVall(x,yIn,0.00000001,1000)\n",
    "    all_theta = np.append(all_theta, temp, axis=0)\n",
    "    #all_theta = np.vstack([all_theta,temp])\n",
    "all_theta.shape\n",
    "all_theta = all_theta[1:,:]"
   ]
  },
  {
   "cell_type": "code",
   "execution_count": 154,
   "id": "1b610409",
   "metadata": {},
   "outputs": [
    {
     "name": "stdout",
     "output_type": "stream",
     "text": [
      "[[0.13667537]\n",
      " [0.04637424]\n",
      " [0.06269306]\n",
      " [0.0821832 ]\n",
      " [0.08864045]\n",
      " [0.08541685]\n",
      " [0.06992848]\n",
      " [0.20942973]\n",
      " [0.08381497]\n",
      " [0.1180436 ]]\n"
     ]
    }
   ],
   "source": [
    "def predict(theta,x):\n",
    "    theta = np.matrix(theta)\n",
    "    x = np.matrix(x)\n",
    "    return sigmoid(theta*np.transpose(x))\n",
    "xTest = data.iloc[41997:41998,1:].values\n",
    "xTest = np.append(1,xTest)\n",
    "print(predict(all_theta,xTest))"
   ]
  },
  {
   "cell_type": "code",
   "execution_count": 163,
   "id": "37e5c59c",
   "metadata": {},
   "outputs": [],
   "source": [
    "label = np.transpose(data.iloc[0:42000,0:1].values)"
   ]
  },
  {
   "cell_type": "code",
   "execution_count": 164,
   "id": "fbb3bb20",
   "metadata": {},
   "outputs": [
    {
     "name": "stdout",
     "output_type": "stream",
     "text": [
      "Percent Accuracy: 76.02142857142857%\n"
     ]
    }
   ],
   "source": [
    "count = 0\n",
    "for k in range(0,42000):\n",
    "    xTest = data.iloc[k:k+1,1:].values\n",
    "    xTest = np.append(1,xTest)\n",
    "    j = np.transpose(predict(all_theta,xTest))\n",
    "    if j.argmax() == label[0][k]:\n",
    "        count +=1\n",
    "print(f\"Percent Accuracy: {100*count/42000}%\")"
   ]
  },
  {
   "cell_type": "markdown",
   "id": "5c571db2",
   "metadata": {},
   "source": [
    "## Points to note:\n",
    "\n",
    "1. As seen in the above cell, we have obtained a model with 76 percent accuracy\n",
    "2. We can run better optimization algorithms instead of iterating gadrient descent and using a predetermined value alpha using scipy.optimize.minimize\n",
    "3. Increasing the number of iterations and reducing alpha will only increase the time taken to train the model"
   ]
  },
  {
   "cell_type": "code",
   "execution_count": null,
   "id": "8805db75",
   "metadata": {},
   "outputs": [],
   "source": []
  }
 ],
 "metadata": {
  "kernelspec": {
   "display_name": "Python 3 (ipykernel)",
   "language": "python",
   "name": "python3"
  },
  "language_info": {
   "codemirror_mode": {
    "name": "ipython",
    "version": 3
   },
   "file_extension": ".py",
   "mimetype": "text/x-python",
   "name": "python",
   "nbconvert_exporter": "python",
   "pygments_lexer": "ipython3",
   "version": "3.9.7"
  }
 },
 "nbformat": 4,
 "nbformat_minor": 5
}
