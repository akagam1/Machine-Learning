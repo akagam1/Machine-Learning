{
 "cells": [
  {
   "cell_type": "markdown",
   "id": "ab93134e",
   "metadata": {},
   "source": [
    "# Multi-Class Learning with a Neural Network\n",
    "\n",
    "The goal is to recognise different clothing items. The training set is the Fashion-MNIST data set with 60,000 training examples. Each picture is a 28x28 greyscale image, and 10 different classes (clothing items)"
   ]
  },
  {
   "cell_type": "code",
   "execution_count": null,
   "id": "5de4238b",
   "metadata": {},
   "outputs": [],
   "source": []
  }
 ],
 "metadata": {
  "kernelspec": {
   "display_name": "Python 3 (ipykernel)",
   "language": "python",
   "name": "python3"
  },
  "language_info": {
   "codemirror_mode": {
    "name": "ipython",
    "version": 3
   },
   "file_extension": ".py",
   "mimetype": "text/x-python",
   "name": "python",
   "nbconvert_exporter": "python",
   "pygments_lexer": "ipython3",
   "version": "3.9.7"
  }
 },
 "nbformat": 4,
 "nbformat_minor": 5
}
