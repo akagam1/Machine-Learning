{
 "cells": [
  {
   "cell_type": "markdown",
   "id": "7c50da9f",
   "metadata": {},
   "source": [
    "# Linear Regression with Multiple Variables\n",
    "\n",
    "The goal is to implement multivariate linear regression from scratch. Since it's hard to randomise test values, I'll be using real world data and performing the algorithm on that data set as a test. Therefore I'll need to use a python library like pandas as well."
   ]
  },
  {
   "cell_type": "code",
   "execution_count": 1,
   "id": "2f3a2c7a",
   "metadata": {},
   "outputs": [
    {
     "name": "stdout",
     "output_type": "stream",
     "text": [
      "Collecting package metadata (current_repodata.json): done\n",
      "Solving environment: done\n",
      "\n",
      "# All requested packages already installed.\n",
      "\n"
     ]
    }
   ],
   "source": [
    "!conda install pandas"
   ]
  },
  {
   "cell_type": "code",
   "execution_count": 69,
   "id": "21d07a78",
   "metadata": {},
   "outputs": [
    {
     "name": "stdout",
     "output_type": "stream",
     "text": [
      "[[1 2]\n",
      " [3 4]]\n",
      "[[2 3]]\n",
      "2\n",
      "55\n",
      "70\n"
     ]
    }
   ],
   "source": [
    "import matplotlib.pyplot as plt\n",
    "import numpy as np\n",
    "import pandas as pd\n",
    "\n",
    "a = np.matrix([[1,2],[3,4]])\n",
    "print(a)\n",
    "b = np.matrix([[2,3]])\n",
    "print(b)\n",
    "d = np.array(a[0])[0].shape[0]\n",
    "d\n",
    "e = np.matrix([1,2,3,4,5])\n",
    "print(a.shape[0])\n",
    "\n",
    "t = np.transpose(np.matrix([1,2,3,4,5]))\n",
    "x = np.matrix([[1,2,3,4,5],[1,1,1,1,1]])\n",
    "y = x*t\n",
    "\n",
    "sums = 0\n",
    "for k in range(2):\n",
    "    sums += y.item(k,0)\n",
    "print(sums)\n",
    "\n",
    "tel = [0,0]\n",
    "tel[0], tel[1] = 1, 3\n",
    "tel.append(0)\n"
   ]
  },
  {
   "cell_type": "markdown",
   "id": "71df97df",
   "metadata": {},
   "source": [
    "## Approach\n",
    "\n",
    "Lets say that there are m+1 parameters $\\theta$<sub>0</sub> to $\\theta$<sub>M</sub> and n+1 variables Xo to Xn. Lets also say that an AxB matrix has A rows and B columns\n",
    "1. Represent the parameters in a (m+1)x1 matrix\n",
    "2. Represent the variables in an (m+1)x(n+1) matrix\n",
    "3. Hypothesis Function will be H = $\\theta$<sup>T</sup> * X\n",
    "4. Note: In numpy matrix multiplication if you are multiplying a nx1 matrix and an nxm matrix you would expect a matrix with dimensions mx1 but you get the opposite in numpy."
   ]
  },
  {
   "cell_type": "code",
   "execution_count": 77,
   "id": "fb483e93",
   "metadata": {},
   "outputs": [],
   "source": [
    "#For house prices we will consider area, bhk and bathrooms (only numerical values in the csv file)\n",
    "def sumDiff(hMatrix, y,xMatrix, m, row):\n",
    "    xT = np.transpose(xMatrix)\n",
    "    sums = 0\n",
    "    for k in range(m):\n",
    "        sums += (hMatrix.item(k,0)-y[k])*xT.item(row, k)\n",
    "    return sums/m\n",
    "    \n",
    "def gradDesc(x,theta,alpha,iterations):\n",
    "    parameters = np.array(x[0])[0].shape[0]\n",
    "    m = x.shape[0]\n",
    "    \n",
    "    for i in range(parameters):\n",
    "        theta.append(np.random.randint(low=2, high=5))\n",
    "    \n",
    "    for j in range(iterations):\n",
    "        h = x * np.transpose(np.matrix([theta]))\n",
    "        temp0 = theta[0] - alpha*sumDiff(h,y,x,m,0)\n",
    "        temp1 = theta[1] - alpha*sumDiff(h,y,x,m,1)\n",
    "        temp2 = theta[2] - alpha*sumDiff(h,y,x,m,2)\n",
    "        temp3 = theta[3] - alpha*sumDiff(h,y,x,m,3)\n",
    "        theta = [temp0, temp1, temp2, temp3]\n",
    "    return theta      "
   ]
  },
  {
   "cell_type": "code",
   "execution_count": 120,
   "id": "497e247c",
   "metadata": {},
   "outputs": [
    {
     "name": "stdout",
     "output_type": "stream",
     "text": [
      "12901958.417743534\n"
     ]
    }
   ],
   "source": [
    "import math\n",
    "df = pd.read_csv(\"data1.csv\")\n",
    "\n",
    "x1scale = 100\n",
    "yscale = 10000\n",
    "\n",
    "x1 = np.array(df[\"Area\"].tolist())/x1scale\n",
    "x2 = np.array(df[\"BHK\"].tolist())\n",
    "\n",
    "items = x1.shape[0]\n",
    "x3 = df[\"Bathroom\"].tolist()\n",
    "\n",
    "for o in range(items):\n",
    "    if math.isnan(x3[o]):\n",
    "        x3[o] = 0\n",
    "x3 = np.array(x3)\n",
    "\n",
    "y = np.array(df[\"Price\"].tolist())/yscale\n",
    "\n",
    "x0 = []\n",
    "for i in range(items):\n",
    "    x0.append(1)\n",
    "    \n",
    "x = np.transpose(np.matrix([x0,x1,x2,x3]))\n",
    "theta = []\n",
    "\n",
    "paras = gradDesc(x, theta, 0.0000006, 9500)\n",
    "print((paras[0] + paras[1]*11 + paras[2]*3 + paras[3]*2)*yscale)"
   ]
  },
  {
   "cell_type": "markdown",
   "id": "7b8d1c60",
   "metadata": {},
   "source": [
    "# Things to Note\n",
    "1. Linear regression modesl don't work very well when we also have to consider other non-numerical variables like the locality and furnishing\n",
    "2. Works well for data that depends on mostly numerical variables"
   ]
  },
  {
   "cell_type": "code",
   "execution_count": null,
   "id": "f8bc0cbb",
   "metadata": {},
   "outputs": [],
   "source": []
  }
 ],
 "metadata": {
  "kernelspec": {
   "display_name": "Python 3 (ipykernel)",
   "language": "python",
   "name": "python3"
  },
  "language_info": {
   "codemirror_mode": {
    "name": "ipython",
    "version": 3
   },
   "file_extension": ".py",
   "mimetype": "text/x-python",
   "name": "python",
   "nbconvert_exporter": "python",
   "pygments_lexer": "ipython3",
   "version": "3.9.7"
  }
 },
 "nbformat": 4,
 "nbformat_minor": 5
}
