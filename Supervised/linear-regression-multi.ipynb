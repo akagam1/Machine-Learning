{
 "cells": [
  {
   "cell_type": "markdown",
   "id": "7c50da9f",
   "metadata": {},
   "source": [
    "# Linear Regression with Multiple Variables\n",
    "\n",
    "The goal is to implement multivariate linear regression from scratch. Since it's hard to randomise test values, I'll be using real world data and performing the algorithm on that data set as a test. Therefore I'll need to use a python library like pandas as well."
   ]
  },
  {
   "cell_type": "code",
   "execution_count": 1,
   "id": "2f3a2c7a",
   "metadata": {},
   "outputs": [
    {
     "name": "stdout",
     "output_type": "stream",
     "text": [
      "Collecting package metadata (current_repodata.json): done\n",
      "Solving environment: done\n",
      "\n",
      "# All requested packages already installed.\n",
      "\n"
     ]
    }
   ],
   "source": [
    "!conda install pandas"
   ]
  },
  {
   "cell_type": "code",
   "execution_count": 3,
   "id": "21d07a78",
   "metadata": {},
   "outputs": [],
   "source": [
    "import matplotlib.pyplot as plt\n",
    "import numpy as np\n",
    "import pandas as pd"
   ]
  },
  {
   "cell_type": "markdown",
   "id": "71df97df",
   "metadata": {},
   "source": [
    "## Approach\n",
    "\n",
    "Lets say that there are m+1 parameters $\\theta$<sub>0</sub> to $\\theta$<sub>M</sub> and n+1 variables Xo to Xn\n",
    "Lets also say that an AxB matrix has A rows and B columns\n",
    "1. Represent the parameters in a (m+1)x1 matrix\n",
    "2. Represent the variables in an (m+1)x(n+1) matrix\n",
    "3. Hypothesis Function will be H = $\\theta$<sup>T</sup> * X"
   ]
  },
  {
   "cell_type": "code",
   "execution_count": null,
   "id": "fb483e93",
   "metadata": {},
   "outputs": [],
   "source": []
  }
 ],
 "metadata": {
  "kernelspec": {
   "display_name": "Python 3 (ipykernel)",
   "language": "python",
   "name": "python3"
  },
  "language_info": {
   "codemirror_mode": {
    "name": "ipython",
    "version": 3
   },
   "file_extension": ".py",
   "mimetype": "text/x-python",
   "name": "python",
   "nbconvert_exporter": "python",
   "pygments_lexer": "ipython3",
   "version": "3.9.7"
  }
 },
 "nbformat": 4,
 "nbformat_minor": 5
}
