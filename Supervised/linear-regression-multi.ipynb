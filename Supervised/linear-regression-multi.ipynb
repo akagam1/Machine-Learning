{
 "cells": [
  {
   "cell_type": "markdown",
   "id": "7c50da9f",
   "metadata": {},
   "source": [
    "# Linear Regression with Multiple Variables\n",
    "\n",
    "The goal is to implement multivariate linear regression from scratch. Since it's hard to randomise test values, I'll be using real world data and performing the algorithm on that data set as a test. Therefore I'll need to use a python library like pandas as well."
   ]
  },
  {
   "cell_type": "code",
   "execution_count": 1,
   "id": "2f3a2c7a",
   "metadata": {},
   "outputs": [
    {
     "name": "stdout",
     "output_type": "stream",
     "text": [
      "Collecting package metadata (current_repodata.json): done\n",
      "Solving environment: done\n",
      "\n",
      "# All requested packages already installed.\n",
      "\n"
     ]
    }
   ],
   "source": [
    "!conda install pandas"
   ]
  },
  {
   "cell_type": "code",
   "execution_count": 14,
   "id": "21d07a78",
   "metadata": {},
   "outputs": [
    {
     "name": "stdout",
     "output_type": "stream",
     "text": [
      "4\n",
      "4\n",
      "3\n"
     ]
    },
    {
     "data": {
      "text/plain": [
       "matrix([[1, 3, 2, 0],\n",
       "        [2, 4, 3, 1]])"
      ]
     },
     "execution_count": 14,
     "metadata": {},
     "output_type": "execute_result"
    }
   ],
   "source": [
    "import matplotlib.pyplot as plt\n",
    "import numpy as np\n",
    "import pandas as pd\n",
    "\n",
    "a = np.matrix([[1,2],[3,4],[2,3],[0,1]])\n",
    "print(a.item(1,1))\n",
    "print(a.shape[0])\n",
    "b = [1,2,3,4]\n",
    "b = np.matrix([b])\n",
    "print(b.item(0,2))\n",
    "np.transpose(a)"
   ]
  },
  {
   "cell_type": "markdown",
   "id": "71df97df",
   "metadata": {},
   "source": [
    "## Approach\n",
    "\n",
    "Lets say that there are m+1 parameters $\\theta$<sub>0</sub> to $\\theta$<sub>M</sub> and n+1 variables Xo to Xn\n",
    "Lets also say that an AxB matrix has A rows and B columns\n",
    "1. Represent the parameters in a (m+1)x1 matrix\n",
    "2. Represent the variables in an (m+1)x(n+1) matrix\n",
    "3. Hypothesis Function will be H = $\\theta$<sup>T</sup> * X"
   ]
  },
  {
   "cell_type": "code",
   "execution_count": 17,
   "id": "fb483e93",
   "metadata": {},
   "outputs": [],
   "source": [
    "#For house prices we will consider area, bhk and bathrooms (only numerical values in the csv file)\n",
    "def sumDiff(hMatrix, yMatrix, m):\n",
    "    \n",
    "    \n",
    "def gradDesc(x,theta,alpha,iterations):\n",
    "    m = x.shape[0]\n",
    "    \n",
    "    theta = []\n",
    "    for i in range(m):\n",
    "        theta[i] = np.random.randint(low=2, high=5);\n",
    "    theta = np.matrix([theta])\n",
    "    temp = theta\n",
    "    thetaT = np.transpose(theta)\n",
    "    \n",
    "    for j in range(iterations):\n",
    "        h = x * thetaT\n",
    "        temp = sumDiff(h,y,m)"
   ]
  },
  {
   "cell_type": "code",
   "execution_count": null,
   "id": "497e247c",
   "metadata": {},
   "outputs": [],
   "source": []
  }
 ],
 "metadata": {
  "kernelspec": {
   "display_name": "Python 3 (ipykernel)",
   "language": "python",
   "name": "python3"
  },
  "language_info": {
   "codemirror_mode": {
    "name": "ipython",
    "version": 3
   },
   "file_extension": ".py",
   "mimetype": "text/x-python",
   "name": "python",
   "nbconvert_exporter": "python",
   "pygments_lexer": "ipython3",
   "version": "3.9.7"
  }
 },
 "nbformat": 4,
 "nbformat_minor": 5
}
