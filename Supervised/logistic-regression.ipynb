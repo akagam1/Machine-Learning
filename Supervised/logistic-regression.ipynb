{
 "cells": [
  {
   "cell_type": "markdown",
   "id": "b388b210",
   "metadata": {},
   "source": [
    "# Logistic Regression\n",
    "\n",
    "The code in this notebook will be an implementation of the logistic regression algorithm from scratch. I will be working on an example and the datasets available is a part of Andrew Ng's course on coursera in the Week 3 section. The txt file will also be available in the directory"
   ]
  },
  {
   "cell_type": "code",
   "execution_count": 82,
   "id": "0cdf9a0d",
   "metadata": {},
   "outputs": [],
   "source": [
    "import matplotlib.pyplot as plt\n",
    "import pandas as pd\n",
    "import numpy as np\n",
    "from scipy.special import expit\n",
    "from scipy import optimize\n",
    "import math\n",
    "\n",
    "df=pd.read_csv(\"ex2data1.txt\",sep=',', engine='python')"
   ]
  },
  {
   "cell_type": "code",
   "execution_count": 63,
   "id": "ee600d20",
   "metadata": {},
   "outputs": [],
   "source": [
    "x1 = df[\"exam1\"].tolist()\n",
    "x2 = df[\"exam2\"].tolist()\n",
    "x0 = np.array([1 for i in range(len(x1))])\n",
    "y = df[\"status\"].tolist()\n",
    "x = np.matrix([x0,x1,x2])"
   ]
  },
  {
   "cell_type": "markdown",
   "id": "f5454546",
   "metadata": {},
   "source": [
    "# Under the hood\n",
    "\n",
    "<p><span style=\"font-size:larger;\">h<sub>$\\theta$</sub>(x) = g($\\theta$x)</span> </p>\n"
   ]
  },
  {
   "cell_type": "code",
   "execution_count": 104,
   "id": "961b55b8",
   "metadata": {},
   "outputs": [],
   "source": [
    "def gradDesc(x,y,alpha,iterations):\n",
    "    yM = np.matrix(y)\n",
    "    theta = np.matrix([0,1,7])\n",
    "    m = len(y)\n",
    "    \n",
    "    for i in range(iterations):\n",
    "        h = 1/(1+expit(-(theta*x)))\n",
    "        theta = theta - (alpha/m)*((h - yM)*np.transpose(x))\n",
    "    p1,p2,p3 = theta.item(0,0),theta.item(0,1),theta.item(0,2)\n",
    "    return (p1,p2,p3,cost)"
   ]
  },
  {
   "cell_type": "code",
   "execution_count": 106,
   "id": "982dd3a1",
   "metadata": {},
   "outputs": [
    {
     "data": {
      "image/png": "[encoded data removed]",
      "text/plain": [
       "<Figure size 432x288 with 1 Axes>"
      ]
     },
     "metadata": {
      "needs_background": "light"
     },
     "output_type": "display_data"
    },
    {
     "name": "stdout",
     "output_type": "stream",
     "text": [
      "-334.17675657302885 2.932970844584399 2.3789436559202675\n"
     ]
    }
   ],
   "source": [
    "p0,p1,p2,cost = gradDesc(x,y,0.075,72000)\n",
    "\n",
    "%matplotlib inline\n",
    "acceptedX1 = [x1[i] for i in range(len(x1)) if y[i] == 1]\n",
    "acceptedX2 = [x2[i] for i in range(len(x2)) if y[i] == 1]\n",
    "rejectedX1 = [x1[i] for i in range(len(x1)) if y[i] == 0]\n",
    "rejectedX2 = [x2[i] for i in range(len(x2)) if y[i] == 0]\n",
    "plt.scatter(acceptedX1,acceptedX2, marker='*', color='g')\n",
    "plt.scatter(rejectedX1,rejectedX2, marker='o', color='purple')\n",
    "plt.xlim(30,100)\n",
    "plt.ylim(30,100)\n",
    "a = np.linspace(0,100,100)\n",
    "b = -(p1*a + p0)/p2\n",
    "plt.plot(a,b,'r')\n",
    "plt.show()\n",
    "print(p0,p1,p2)"
   ]
  },
  {
   "cell_type": "code",
   "execution_count": 140,
   "id": "edd2c96d",
   "metadata": {},
   "outputs": [
    {
     "name": "stdout",
     "output_type": "stream",
     "text": [
      "With scores 45 and 86 You will be accepted\n",
      "With scores 50 and 87 You will be accepted\n",
      "With scores 85 and 46 You will be accepted\n",
      "With scores 67 and 52 you will be rejected\n"
     ]
    }
   ],
   "source": [
    "def predict(x,y,p0,p1,p2):\n",
    "    tempY = -(p1*x + p0)/p2\n",
    "    if y-tempY>=0:\n",
    "        return f\"With scores {x} and {y} You will be accepted\"\n",
    "    else:\n",
    "        return f\"With scores {x} and {y} you will be rejected\"\n",
    "    \n",
    "print(predict(45,86,p0,p1,p2))\n",
    "print(predict(50,87,p0,p1,p2))\n",
    "print(predict(85,46,p0,p1,p2))\n",
    "print(predict(67,52,p0,p1,p2))"
   ]
  },
  {
   "cell_type": "code",
   "execution_count": null,
   "id": "99f9971a",
   "metadata": {},
   "outputs": [],
   "source": []
  }
 ],
 "metadata": {
  "kernelspec": {
   "display_name": "Python 3 (ipykernel)",
   "language": "python",
   "name": "python3"
  },
  "language_info": {
   "codemirror_mode": {
    "name": "ipython",
    "version": 3
   },
   "file_extension": ".py",
   "mimetype": "text/x-python",
   "name": "python",
   "nbconvert_exporter": "python",
   "pygments_lexer": "ipython3",
   "version": "3.9.7"
  }
 },
 "nbformat": 4,
 "nbformat_minor": 5
}
