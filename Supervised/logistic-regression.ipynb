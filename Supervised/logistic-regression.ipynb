{
 "cells": [
  {
   "cell_type": "markdown",
   "id": "b388b210",
   "metadata": {},
   "source": [
    "# Logistic Regression\n",
    "\n",
    "The code in this notebook will be an implementation of the logistic regression algorithm from scratch. I will be working on an example and the datasets available is a part of Andrew Ng's course on coursera in the Week 3 section. The txt file will also be available in the directory"
   ]
  },
  {
   "cell_type": "code",
   "execution_count": null,
   "id": "0cdf9a0d",
   "metadata": {},
   "outputs": [],
   "source": []
  }
 ],
 "metadata": {
  "kernelspec": {
   "display_name": "Python 3 (ipykernel)",
   "language": "python",
   "name": "python3"
  },
  "language_info": {
   "codemirror_mode": {
    "name": "ipython",
    "version": 3
   },
   "file_extension": ".py",
   "mimetype": "text/x-python",
   "name": "python",
   "nbconvert_exporter": "python",
   "pygments_lexer": "ipython3",
   "version": "3.9.7"
  }
 },
 "nbformat": 4,
 "nbformat_minor": 5
}
