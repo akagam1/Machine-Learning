{
 "cells": [
  {
   "cell_type": "markdown",
   "id": "047ab55e",
   "metadata": {},
   "source": [
    "# Linear Regression with One Variable\n",
    "\n",
    "The code in this notebook is an implementation of the linear regression algorithm from scratch. The goal is to predict housing prices in a specific area of a city given data based on house-size vs price."
   ]
  },
  {
   "cell_type": "code",
   "execution_count": 1,
   "id": "64fdae8d",
   "metadata": {},
   "outputs": [],
   "source": [
    "import numpy as np\n",
    "import matplotlib.pyplot as plt\n",
    "%matplotlib inline"
   ]
  },
  {
   "cell_type": "markdown",
   "id": "e0ef9ee8",
   "metadata": {},
   "source": [
    "## Tasks to Complete:\n",
    "1. Implement linear regression, gradient descent functions\n",
    "2. Test on set of points that fit a straight line of the form y = mx + c perfectly as a test case\n",
    "3. Animate graph changes after each simultaneous update\n",
    "4. Test with housing prices\n",
    "\n",
    "## Order of implementation\n",
    "1. Pick random value for theta0 and theta1\n",
    "2. Set h(x) as theta0 + theta1 * x\n",
    "3. perform gradient descent until temp0 and temp1 are equal to theta0 and theta1\n",
    "4. set h(x) with new parameters\n",
    "5. plot the line"
   ]
  },
  {
   "cell_type": "code",
   "execution_count": 2,
   "id": "663b7f01",
   "metadata": {},
   "outputs": [],
   "source": [
    "theta0 = 0\n",
    "theta1 = 0\n",
    "temp0 = 1\n",
    "temp1 = 1\n",
    "\n",
    "def gradDesc(x,y,alpha):\n",
    "    while (theta0 != temp0) and (theta1 != temp1):\n",
    "        temp0 = theta0 - alpha*linRegA(theta0, theta1, x, y)/len(x)\n",
    "        temp1 = theta1 - alpha*linRegB(theta0, theta1, x, y)/len(x)\n",
    "        theta0 = temp0\n",
    "        theta1 = temp1"
   ]
  },
  {
   "cell_type": "code",
   "execution_count": null,
   "id": "40632713",
   "metadata": {},
   "outputs": [],
   "source": []
  }
 ],
 "metadata": {
  "kernelspec": {
   "display_name": "Python 3 (ipykernel)",
   "language": "python",
   "name": "python3"
  },
  "language_info": {
   "codemirror_mode": {
    "name": "ipython",
    "version": 3
   },
   "file_extension": ".py",
   "mimetype": "text/x-python",
   "name": "python",
   "nbconvert_exporter": "python",
   "pygments_lexer": "ipython3",
   "version": "3.9.7"
  }
 },
 "nbformat": 4,
 "nbformat_minor": 5
}
