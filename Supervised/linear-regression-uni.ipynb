{
 "cells": [
  {
   "cell_type": "markdown",
   "id": "047ab55e",
   "metadata": {},
   "source": [
    "# Linear Regression with One Variable\n",
    "\n",
    "The code in this notebook is an implementation of the linear regression algorithm from scratch. The goal is to predict housing prices in a specific area of a city given data based on house-size vs price."
   ]
  },
  {
   "cell_type": "code",
   "execution_count": 4,
   "id": "64fdae8d",
   "metadata": {},
   "outputs": [],
   "source": [
    "import numpy as np\n",
    "import matplotlib.pyplot as plt\n",
    "%matplotlib inline"
   ]
  },
  {
   "cell_type": "markdown",
   "id": "e0ef9ee8",
   "metadata": {},
   "source": [
    "## Tasks to Complete:\n",
    "1. Implement linear regression, gradient descent functions\n",
    "2. Test on set of points that fit a straight line of the form y = mx + c perfectly as a test case\n",
    "3. Animate graph changes after each simultaneous update\n",
    "4. Test with housing prices\n",
    "\n",
    "## Order of implementation\n",
    "1. Pick random value for theta0 and theta1\n",
    "2. Set h(x) as theta0 + theta1 * x\n",
    "3. perform gradient descent until temp0 and temp1 are equal to theta0 and theta1\n",
    "4. set h(x) with new parameters\n",
    "5. plot the line"
   ]
  },
  {
   "cell_type": "code",
   "execution_count": 5,
   "id": "663b7f01",
   "metadata": {},
   "outputs": [
    {
     "name": "stdout",
     "output_type": "stream",
     "text": [
      "(0.0, 2.0)\n"
     ]
    }
   ],
   "source": [
    "def sumDiff(hList, yList, m):\n",
    "        sums = 0\n",
    "        div = 0\n",
    "        for i in range(m):\n",
    "            sums += hList[i] - yList[i]\n",
    "        return sums/m\n",
    "    \n",
    "def gradDesc(x,y,alpha,iterations):\n",
    "    m = x.shape[0]\n",
    "    theta0 = np.random.randint(low=2, high=5);\n",
    "    theta1 = np.random.randint(low=2, high=5);\n",
    "    temp0 = 1\n",
    "    temp1 = 5\n",
    "  \n",
    "    for j in range(iterations):\n",
    "        h = theta0 + theta1 * x\n",
    "        a = sumDiff(h,y,m)\n",
    "        b = sumDiff(h*x,y*x, m)\n",
    "        temp0 = theta0 - alpha*a\n",
    "        temp1 = theta1 - alpha*b\n",
    "        theta0 = temp0\n",
    "        theta1 = temp1\n",
    "    \n",
    "    return round(theta0,2), round(theta1,2)\n",
    "\n",
    "g = [0,1,2]\n",
    "h = [0,2,4]\n",
    "\n",
    "g=np.array(g)\n",
    "h=np.array(h)\n",
    "print(gradDesc(g,h,0.5,500))"
   ]
  },
  {
   "cell_type": "markdown",
   "id": "4614fa7d",
   "metadata": {},
   "source": [
    "## Points to note:\n",
    "\n",
    "1. When using a while loop and exiting only after a=b=0 won't work as for a specific set of values a and b might never be exactly equal to zero. Therefore, we either have to loop a set number of times or use the while loop but keep a range of values, say less than± 0.001 about 0.\n",
    "\n",
    "2. Made use of numpy arrays instead of python lists. This lets us multiply two arrays with ease. This makes the partial derivative with respect to theta1 much easier to calculate.\n",
    "\n",
    "## The Path ahead: \n",
    "1. Plotting points on a graph and showing a visual on how the line changes. \n",
    "2. Use real world data to predict an outcome using the algorithm.\n",
    "3. Might creat a webpage and host the above as a mini-project."
   ]
  },
  {
   "cell_type": "code",
   "execution_count": 182,
   "id": "1e73171b",
   "metadata": {},
   "outputs": [
    {
     "data": {
      "image/png": "[encoded data removed]",
      "text/plain": [
       "<Figure size 432x288 with 1 Axes>"
      ]
     },
     "metadata": {
      "needs_background": "light"
     },
     "output_type": "display_data"
    }
   ],
   "source": [
    "a = np.random.randint(0,50,200)\n",
    "b = np.random.randint(10,30,200)\n",
    "a = np.array(a)\n",
    "b= np.array(b)\n",
    "c = a\n",
    "d = b\n",
    "\n",
    "\n",
    "c,m = gradDesc(a,b,0.0008, 10000)\n",
    "x = np.linspace(0,50,100)\n",
    "y = m*x + c\n",
    "plt.scatter(a,b, marker='x')\n",
    "plt.xlim(0,50)\n",
    "plt.ylim(0,50)\n",
    "plt.plot(x,y, 'r')\n",
    "plt.show()"
   ]
  },
  {
   "cell_type": "code",
   "execution_count": 6,
   "id": "8347ff0a",
   "metadata": {},
   "outputs": [],
   "source": [
    "import pandas as pd"
   ]
  },
  {
   "cell_type": "code",
   "execution_count": 7,
   "id": "909ebcba",
   "metadata": {},
   "outputs": [
    {
     "data": {
      "image/png": "[encoded data removed]",
      "text/plain": [
       "<Figure size 432x288 with 1 Axes>"
      ]
     },
     "metadata": {
      "needs_background": "light"
     },
     "output_type": "display_data"
    },
    {
     "name": "stdout",
     "output_type": "stream",
     "text": [
      "15897999.999999998\n"
     ]
    }
   ],
   "source": [
    "df = pd.read_csv(\"data1.csv\")  #house prices in delhi\n",
    "domainX = np.array(df[\"Area\"].tolist())\n",
    "rangeY = np.array(df[\"Price\"].tolist())\n",
    "\n",
    "yScale = 100000\n",
    "xScale = 100\n",
    "domainX = domainX/xScale\n",
    "rangeY = rangeY/yScale\n",
    "plt.scatter(domainX,rangeY, marker='x')\n",
    "c,m = gradDesc(domainX,rangeY,0.000006, 20000)\n",
    "x = np.linspace(0,250,100)\n",
    "y = m*x + c\n",
    "plt.plot(x,y, 'r')\n",
    "plt.show()\n",
    "\n",
    "print((m*13+c)*yScale)"
   ]
  },
  {
   "cell_type": "code",
   "execution_count": null,
   "id": "3fb2722c",
   "metadata": {},
   "outputs": [],
   "source": []
  }
 ],
 "metadata": {
  "kernelspec": {
   "display_name": "Python 3 (ipykernel)",
   "language": "python",
   "name": "python3"
  },
  "language_info": {
   "codemirror_mode": {
    "name": "ipython",
    "version": 3
   },
   "file_extension": ".py",
   "mimetype": "text/x-python",
   "name": "python",
   "nbconvert_exporter": "python",
   "pygments_lexer": "ipython3",
   "version": "3.9.7"
  }
 },
 "nbformat": 4,
 "nbformat_minor": 5
}
